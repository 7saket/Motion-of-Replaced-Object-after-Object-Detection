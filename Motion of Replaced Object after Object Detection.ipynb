{
 "cells": [
  {
   "cell_type": "code",
   "execution_count": 10,
   "metadata": {},
   "outputs": [],
   "source": [
    "import cv2\n",
    "import time\n",
    "import imutils\n",
    "import numpy as np"
   ]
  },
  {
   "cell_type": "code",
   "execution_count": 11,
   "metadata": {},
   "outputs": [
    {
     "data": {
      "text/plain": [
       "True"
      ]
     },
     "execution_count": 11,
     "metadata": {},
     "output_type": "execute_result"
    }
   ],
   "source": [
    "cap = cv2.VideoCapture(0)\n",
    "\n",
    "width = 640\n",
    "height = 480\n",
    "cap.set(cv2.CAP_PROP_FRAME_WIDTH, width)\n",
    "cap.set(cv2.CAP_PROP_FRAME_HEIGHT, height)"
   ]
  },
  {
   "cell_type": "code",
   "execution_count": 12,
   "metadata": {},
   "outputs": [],
   "source": [
    "logo_org = cv2.imread('F:\\\\Object Python Logo.jpg')"
   ]
  },
  {
   "cell_type": "code",
   "execution_count": 13,
   "metadata": {},
   "outputs": [],
   "source": [
    "last_time = time.time()\n",
    "while True:\n",
    "    \n",
    "    _, frame = cap.read()\n",
    "\n",
    "   \n",
    "    hsv = cv2.cvtColor(frame, cv2.COLOR_BGR2HSV)\n",
    "    \n",
    "    #Creating a mask based on hsv values\n",
    "    #Considered values according to blue object\n",
    "    mask = cv2.inRange(hsv, (110, 120, 120), (130, 255, 255))\n",
    "    \n",
    "    thresh = cv2.dilate(mask, None, iterations=2)\n",
    "    \n",
    "    contours = cv2.findContours(thresh.copy(), cv2.RETR_EXTERNAL, cv2.CHAIN_APPROX_SIMPLE)\n",
    "    contours = imutils.grab_contours(contours)\n",
    "\n",
    "    \n",
    "    for contour in contours:\n",
    "        \n",
    "        if cv2.contourArea(contour) < 750:\n",
    "            continue\n",
    "\n",
    "        \n",
    "        (x, y, w, h) = cv2.boundingRect(contour)\n",
    "        \n",
    "        size = (h + w)//2\n",
    "\n",
    "        # Checking if logo will be inside frame\n",
    "        if y + size < height and x + size < width:\n",
    "            \n",
    "            logo = cv2.resize(logo_org, (size, size))\n",
    "            \n",
    "            img2gray = cv2.cvtColor(logo, cv2.COLOR_BGR2GRAY)\n",
    "            _, logo_mask = cv2.threshold(img2gray, 1, 255, cv2.THRESH_BINARY)\n",
    "\n",
    "            \n",
    "            roi = frame[y:y+size, x:x+size]\n",
    "\n",
    "            \n",
    "            roi[np.where(logo_mask)] = 0\n",
    "            roi += logo\n",
    "\n",
    "    # Adding a FPS label to image\n",
    "    text = f\"FPS: {int(1 / (time.time() - last_time))}\"\n",
    "    last_time = time.time()\n",
    "    cv2.putText(frame, text, (10, 20), cv2.FONT_HERSHEY_PLAIN, 2, (0, 255, 0), 2)\n",
    "\n",
    "    \n",
    "    cv2.imshow(\"Webcam\", frame)\n",
    "    \n",
    "    if cv2.waitKey(1) == ord('q'):\n",
    "        break\n",
    "\n",
    "\n",
    "cap.release()\n",
    "cv2.destroyAllWindows()"
   ]
  }
 ],
 "metadata": {
  "kernelspec": {
   "display_name": "Python 3",
   "language": "python",
   "name": "python3"
  },
  "language_info": {
   "codemirror_mode": {
    "name": "ipython",
    "version": 3
   },
   "file_extension": ".py",
   "mimetype": "text/x-python",
   "name": "python",
   "nbconvert_exporter": "python",
   "pygments_lexer": "ipython3",
   "version": "3.8.5"
  }
 },
 "nbformat": 4,
 "nbformat_minor": 4
}
